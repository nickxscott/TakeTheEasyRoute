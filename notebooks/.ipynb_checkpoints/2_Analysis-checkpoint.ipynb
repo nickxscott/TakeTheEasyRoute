{
 "cells": [
  {
   "cell_type": "code",
   "execution_count": 1,
   "id": "f00ff65c-2587-4bf0-8c9f-33f82b946caf",
   "metadata": {},
   "outputs": [],
   "source": [
    "import pandas as pd\n",
    "import numpy as np\n",
    "from scipy import stats"
   ]
  },
  {
   "cell_type": "markdown",
   "id": "61e21ddb-a032-460a-b4c3-f4b262be2ad9",
   "metadata": {},
   "source": [
    "Beginning the analysis by reading in the three dataframes created previously in the EDAV notebook for each route"
   ]
  },
  {
   "cell_type": "code",
   "execution_count": 2,
   "id": "21eb4148-d0f4-499d-8d4d-889047da20b6",
   "metadata": {},
   "outputs": [
    {
     "data": {
      "text/html": [
       "<div>\n",
       "<style scoped>\n",
       "    .dataframe tbody tr th:only-of-type {\n",
       "        vertical-align: middle;\n",
       "    }\n",
       "\n",
       "    .dataframe tbody tr th {\n",
       "        vertical-align: top;\n",
       "    }\n",
       "\n",
       "    .dataframe thead th {\n",
       "        text-align: right;\n",
       "    }\n",
       "</style>\n",
       "<table border=\"1\" class=\"dataframe\">\n",
       "  <thead>\n",
       "    <tr style=\"text-align: right;\">\n",
       "      <th></th>\n",
       "      <th>Unnamed: 0</th>\n",
       "      <th>latitude</th>\n",
       "      <th>longitude</th>\n",
       "      <th>elevation</th>\n",
       "      <th>time</th>\n",
       "      <th>heart_rate</th>\n",
       "      <th>cadence</th>\n",
       "      <th>geometry</th>\n",
       "    </tr>\n",
       "  </thead>\n",
       "  <tbody>\n",
       "    <tr>\n",
       "      <th>0</th>\n",
       "      <td>0</td>\n",
       "      <td>40.688497</td>\n",
       "      <td>-73.970898</td>\n",
       "      <td>25.5</td>\n",
       "      <td>2022-03-03 11:58:46+00:00</td>\n",
       "      <td>103</td>\n",
       "      <td>83</td>\n",
       "      <td>POINT (-73.970898 40.688497)</td>\n",
       "    </tr>\n",
       "    <tr>\n",
       "      <th>1</th>\n",
       "      <td>1</td>\n",
       "      <td>40.688514</td>\n",
       "      <td>-73.970898</td>\n",
       "      <td>25.4</td>\n",
       "      <td>2022-03-03 11:58:51+00:00</td>\n",
       "      <td>99</td>\n",
       "      <td>0</td>\n",
       "      <td>POINT (-73.970898 40.688514)</td>\n",
       "    </tr>\n",
       "    <tr>\n",
       "      <th>2</th>\n",
       "      <td>2</td>\n",
       "      <td>40.688518</td>\n",
       "      <td>-73.970909</td>\n",
       "      <td>25.4</td>\n",
       "      <td>2022-03-03 11:58:52+00:00</td>\n",
       "      <td>99</td>\n",
       "      <td>0</td>\n",
       "      <td>POINT (-73.970909 40.688518)</td>\n",
       "    </tr>\n",
       "    <tr>\n",
       "      <th>3</th>\n",
       "      <td>3</td>\n",
       "      <td>40.688531</td>\n",
       "      <td>-73.970922</td>\n",
       "      <td>25.4</td>\n",
       "      <td>2022-03-03 11:58:53+00:00</td>\n",
       "      <td>100</td>\n",
       "      <td>0</td>\n",
       "      <td>POINT (-73.970922 40.688531)</td>\n",
       "    </tr>\n",
       "    <tr>\n",
       "      <th>4</th>\n",
       "      <td>4</td>\n",
       "      <td>40.688545</td>\n",
       "      <td>-73.970934</td>\n",
       "      <td>25.4</td>\n",
       "      <td>2022-03-03 11:58:54+00:00</td>\n",
       "      <td>101</td>\n",
       "      <td>0</td>\n",
       "      <td>POINT (-73.970934 40.688545)</td>\n",
       "    </tr>\n",
       "  </tbody>\n",
       "</table>\n",
       "</div>"
      ],
      "text/plain": [
       "   Unnamed: 0   latitude  longitude  elevation                       time  \\\n",
       "0           0  40.688497 -73.970898       25.5  2022-03-03 11:58:46+00:00   \n",
       "1           1  40.688514 -73.970898       25.4  2022-03-03 11:58:51+00:00   \n",
       "2           2  40.688518 -73.970909       25.4  2022-03-03 11:58:52+00:00   \n",
       "3           3  40.688531 -73.970922       25.4  2022-03-03 11:58:53+00:00   \n",
       "4           4  40.688545 -73.970934       25.4  2022-03-03 11:58:54+00:00   \n",
       "\n",
       "   heart_rate  cadence                      geometry  \n",
       "0         103       83  POINT (-73.970898 40.688497)  \n",
       "1          99        0  POINT (-73.970898 40.688514)  \n",
       "2          99        0  POINT (-73.970909 40.688518)  \n",
       "3         100        0  POINT (-73.970922 40.688531)  \n",
       "4         101        0  POINT (-73.970934 40.688545)  "
      ]
     },
     "execution_count": 2,
     "metadata": {},
     "output_type": "execute_result"
    }
   ],
   "source": [
    "LESloop_df = pd.read_csv(\"../data/LESloop_gdf.csv\")\n",
    "\n",
    "LESloop_df.head()"
   ]
  },
  {
   "cell_type": "code",
   "execution_count": 3,
   "id": "6834a9f0-770f-4846-b5ca-9dda7a6cdd3e",
   "metadata": {},
   "outputs": [
    {
     "data": {
      "text/html": [
       "<div>\n",
       "<style scoped>\n",
       "    .dataframe tbody tr th:only-of-type {\n",
       "        vertical-align: middle;\n",
       "    }\n",
       "\n",
       "    .dataframe tbody tr th {\n",
       "        vertical-align: top;\n",
       "    }\n",
       "\n",
       "    .dataframe thead th {\n",
       "        text-align: right;\n",
       "    }\n",
       "</style>\n",
       "<table border=\"1\" class=\"dataframe\">\n",
       "  <thead>\n",
       "    <tr style=\"text-align: right;\">\n",
       "      <th></th>\n",
       "      <th>Unnamed: 0</th>\n",
       "      <th>latitude</th>\n",
       "      <th>longitude</th>\n",
       "      <th>elevation</th>\n",
       "      <th>time</th>\n",
       "      <th>heart_rate</th>\n",
       "      <th>cadence</th>\n",
       "      <th>geometry</th>\n",
       "    </tr>\n",
       "  </thead>\n",
       "  <tbody>\n",
       "    <tr>\n",
       "      <th>0</th>\n",
       "      <td>0</td>\n",
       "      <td>40.688268</td>\n",
       "      <td>-73.971265</td>\n",
       "      <td>25.9</td>\n",
       "      <td>2022-02-28 11:53:49+00:00</td>\n",
       "      <td>97</td>\n",
       "      <td>83</td>\n",
       "      <td>POINT (-73.971265 40.688268)</td>\n",
       "    </tr>\n",
       "    <tr>\n",
       "      <th>1</th>\n",
       "      <td>1</td>\n",
       "      <td>40.688264</td>\n",
       "      <td>-73.971261</td>\n",
       "      <td>25.9</td>\n",
       "      <td>2022-02-28 11:53:50+00:00</td>\n",
       "      <td>96</td>\n",
       "      <td>83</td>\n",
       "      <td>POINT (-73.971261 40.688264)</td>\n",
       "    </tr>\n",
       "    <tr>\n",
       "      <th>2</th>\n",
       "      <td>2</td>\n",
       "      <td>40.688236</td>\n",
       "      <td>-73.971230</td>\n",
       "      <td>26.0</td>\n",
       "      <td>2022-02-28 11:53:51+00:00</td>\n",
       "      <td>96</td>\n",
       "      <td>0</td>\n",
       "      <td>POINT (-73.97123 40.688236)</td>\n",
       "    </tr>\n",
       "    <tr>\n",
       "      <th>3</th>\n",
       "      <td>3</td>\n",
       "      <td>40.688222</td>\n",
       "      <td>-73.971218</td>\n",
       "      <td>26.0</td>\n",
       "      <td>2022-02-28 11:53:52+00:00</td>\n",
       "      <td>98</td>\n",
       "      <td>0</td>\n",
       "      <td>POINT (-73.971218 40.688222)</td>\n",
       "    </tr>\n",
       "    <tr>\n",
       "      <th>4</th>\n",
       "      <td>4</td>\n",
       "      <td>40.688209</td>\n",
       "      <td>-73.971201</td>\n",
       "      <td>26.1</td>\n",
       "      <td>2022-02-28 11:53:53+00:00</td>\n",
       "      <td>98</td>\n",
       "      <td>0</td>\n",
       "      <td>POINT (-73.971201 40.688209)</td>\n",
       "    </tr>\n",
       "  </tbody>\n",
       "</table>\n",
       "</div>"
      ],
      "text/plain": [
       "   Unnamed: 0   latitude  longitude  elevation                       time  \\\n",
       "0           0  40.688268 -73.971265       25.9  2022-02-28 11:53:49+00:00   \n",
       "1           1  40.688264 -73.971261       25.9  2022-02-28 11:53:50+00:00   \n",
       "2           2  40.688236 -73.971230       26.0  2022-02-28 11:53:51+00:00   \n",
       "3           3  40.688222 -73.971218       26.0  2022-02-28 11:53:52+00:00   \n",
       "4           4  40.688209 -73.971201       26.1  2022-02-28 11:53:53+00:00   \n",
       "\n",
       "   heart_rate  cadence                      geometry  \n",
       "0          97       83  POINT (-73.971265 40.688268)  \n",
       "1          96       83  POINT (-73.971261 40.688264)  \n",
       "2          96        0   POINT (-73.97123 40.688236)  \n",
       "3          98        0  POINT (-73.971218 40.688222)  \n",
       "4          98        0  POINT (-73.971201 40.688209)  "
      ]
     },
     "execution_count": 3,
     "metadata": {},
     "output_type": "execute_result"
    }
   ],
   "source": [
    "PPccw_df = pd.read_csv(\"../data/PPccw_gdf.csv\")\n",
    "\n",
    "PPccw_df.head()"
   ]
  },
  {
   "cell_type": "code",
   "execution_count": 4,
   "id": "4b356fc0-e3cb-4bc3-8b29-66fa9c443635",
   "metadata": {},
   "outputs": [
    {
     "data": {
      "text/html": [
       "<div>\n",
       "<style scoped>\n",
       "    .dataframe tbody tr th:only-of-type {\n",
       "        vertical-align: middle;\n",
       "    }\n",
       "\n",
       "    .dataframe tbody tr th {\n",
       "        vertical-align: top;\n",
       "    }\n",
       "\n",
       "    .dataframe thead th {\n",
       "        text-align: right;\n",
       "    }\n",
       "</style>\n",
       "<table border=\"1\" class=\"dataframe\">\n",
       "  <thead>\n",
       "    <tr style=\"text-align: right;\">\n",
       "      <th></th>\n",
       "      <th>Unnamed: 0</th>\n",
       "      <th>latitude</th>\n",
       "      <th>longitude</th>\n",
       "      <th>elevation</th>\n",
       "      <th>time</th>\n",
       "      <th>heart_rate</th>\n",
       "      <th>cadence</th>\n",
       "      <th>geometry</th>\n",
       "    </tr>\n",
       "  </thead>\n",
       "  <tbody>\n",
       "    <tr>\n",
       "      <th>0</th>\n",
       "      <td>0</td>\n",
       "      <td>40.688572</td>\n",
       "      <td>-73.970831</td>\n",
       "      <td>25.2</td>\n",
       "      <td>2022-02-10 12:02:06+00:00</td>\n",
       "      <td>101</td>\n",
       "      <td>82</td>\n",
       "      <td>POINT (-73.970831 40.688572)</td>\n",
       "    </tr>\n",
       "    <tr>\n",
       "      <th>1</th>\n",
       "      <td>1</td>\n",
       "      <td>40.688582</td>\n",
       "      <td>-73.970768</td>\n",
       "      <td>25.3</td>\n",
       "      <td>2022-02-10 12:02:07+00:00</td>\n",
       "      <td>101</td>\n",
       "      <td>82</td>\n",
       "      <td>POINT (-73.970768 40.688582)</td>\n",
       "    </tr>\n",
       "    <tr>\n",
       "      <th>2</th>\n",
       "      <td>2</td>\n",
       "      <td>40.688543</td>\n",
       "      <td>-73.970779</td>\n",
       "      <td>25.3</td>\n",
       "      <td>2022-02-10 12:02:08+00:00</td>\n",
       "      <td>102</td>\n",
       "      <td>0</td>\n",
       "      <td>POINT (-73.970779 40.688543)</td>\n",
       "    </tr>\n",
       "    <tr>\n",
       "      <th>3</th>\n",
       "      <td>3</td>\n",
       "      <td>40.688462</td>\n",
       "      <td>-73.970733</td>\n",
       "      <td>25.4</td>\n",
       "      <td>2022-02-10 12:02:09+00:00</td>\n",
       "      <td>103</td>\n",
       "      <td>0</td>\n",
       "      <td>POINT (-73.970733 40.688462)</td>\n",
       "    </tr>\n",
       "    <tr>\n",
       "      <th>4</th>\n",
       "      <td>4</td>\n",
       "      <td>40.688483</td>\n",
       "      <td>-73.970752</td>\n",
       "      <td>25.4</td>\n",
       "      <td>2022-02-10 12:02:10+00:00</td>\n",
       "      <td>104</td>\n",
       "      <td>0</td>\n",
       "      <td>POINT (-73.970752 40.688483)</td>\n",
       "    </tr>\n",
       "  </tbody>\n",
       "</table>\n",
       "</div>"
      ],
      "text/plain": [
       "   Unnamed: 0   latitude  longitude  elevation                       time  \\\n",
       "0           0  40.688572 -73.970831       25.2  2022-02-10 12:02:06+00:00   \n",
       "1           1  40.688582 -73.970768       25.3  2022-02-10 12:02:07+00:00   \n",
       "2           2  40.688543 -73.970779       25.3  2022-02-10 12:02:08+00:00   \n",
       "3           3  40.688462 -73.970733       25.4  2022-02-10 12:02:09+00:00   \n",
       "4           4  40.688483 -73.970752       25.4  2022-02-10 12:02:10+00:00   \n",
       "\n",
       "   heart_rate  cadence                      geometry  \n",
       "0         101       82  POINT (-73.970831 40.688572)  \n",
       "1         101       82  POINT (-73.970768 40.688582)  \n",
       "2         102        0  POINT (-73.970779 40.688543)  \n",
       "3         103        0  POINT (-73.970733 40.688462)  \n",
       "4         104        0  POINT (-73.970752 40.688483)  "
      ]
     },
     "execution_count": 4,
     "metadata": {},
     "output_type": "execute_result"
    }
   ],
   "source": [
    "PPcw_df = pd.read_csv(\"../data/PPcw_gdf.csv\")\n",
    "\n",
    "PPcw_df.head()"
   ]
  },
  {
   "cell_type": "markdown",
   "id": "d838e826-be09-4eba-b929-fb03501bdd1f",
   "metadata": {},
   "source": [
    "Extracting the heart rate data from each route and storing as a numpy array."
   ]
  },
  {
   "cell_type": "code",
   "execution_count": 5,
   "id": "7f227092-589c-433c-b854-79fc760236b9",
   "metadata": {},
   "outputs": [],
   "source": [
    "LES_hr = LESloop_df['heart_rate'].to_numpy()\n",
    "\n",
    "PPccw_hr = PPccw_df['heart_rate'].to_numpy()\n",
    "\n",
    "PPcw_hr = PPcw_df['heart_rate'].to_numpy()"
   ]
  },
  {
   "cell_type": "markdown",
   "id": "2c473d69-f9f1-4ecb-b523-c9de432fc3a9",
   "metadata": {},
   "source": [
    "Calculating the mean heart rate for each route as a starting point"
   ]
  },
  {
   "cell_type": "code",
   "execution_count": 6,
   "id": "5b0c3254-84fe-4c30-bfed-dec6babc91ef",
   "metadata": {},
   "outputs": [
    {
     "data": {
      "text/plain": [
       "156.53628808864266"
      ]
     },
     "execution_count": 6,
     "metadata": {},
     "output_type": "execute_result"
    }
   ],
   "source": [
    "LES_hr.mean()"
   ]
  },
  {
   "cell_type": "code",
   "execution_count": 7,
   "id": "6ba37794-66ce-4b9d-bfe4-3a59b2270f68",
   "metadata": {},
   "outputs": [
    {
     "data": {
      "text/plain": [
       "150.5704945992041"
      ]
     },
     "execution_count": 7,
     "metadata": {},
     "output_type": "execute_result"
    }
   ],
   "source": [
    "PPccw_hr.mean()"
   ]
  },
  {
   "cell_type": "code",
   "execution_count": 8,
   "id": "0e3c31f8-90cc-4a83-9fc9-3538667d2d82",
   "metadata": {},
   "outputs": [
    {
     "data": {
      "text/plain": [
       "154.50350058343057"
      ]
     },
     "execution_count": 8,
     "metadata": {},
     "output_type": "execute_result"
    }
   ],
   "source": [
    "PPcw_hr.mean()"
   ]
  },
  {
   "cell_type": "markdown",
   "id": "0a80e569-2573-4a64-bf8c-eea15f9b1d1e",
   "metadata": {},
   "source": [
    "Upon inspecting the means, it appears that the Prospect Park Counter-Clockwise loop is the lowest, the LES loop is the highest, and the Prospect Park Clockwise loop is in between. To make a more conclusive assesment, I'll compare different routes using a statistical test. First, I'll need to test each distribution for normality to determine which statistical test is appropriate"
   ]
  },
  {
   "cell_type": "code",
   "execution_count": 9,
   "id": "3e801273-09b1-4ecb-add2-3ef2e1b69c35",
   "metadata": {},
   "outputs": [
    {
     "data": {
      "text/plain": [
       "NormaltestResult(statistic=1687.053646845702, pvalue=0.0)"
      ]
     },
     "execution_count": 9,
     "metadata": {},
     "output_type": "execute_result"
    }
   ],
   "source": [
    "stats.normaltest(LES_hr)"
   ]
  },
  {
   "cell_type": "code",
   "execution_count": 10,
   "id": "16c6dacf-30df-4ed7-9809-752e990f4caf",
   "metadata": {},
   "outputs": [
    {
     "data": {
      "text/plain": [
       "NormaltestResult(statistic=1545.0429760179593, pvalue=0.0)"
      ]
     },
     "execution_count": 10,
     "metadata": {},
     "output_type": "execute_result"
    }
   ],
   "source": [
    "stats.normaltest(PPccw_hr)"
   ]
  },
  {
   "cell_type": "code",
   "execution_count": 11,
   "id": "a9ab8b5a-75b6-4b69-a1d5-98a3561df5ab",
   "metadata": {},
   "outputs": [
    {
     "data": {
      "text/plain": [
       "NormaltestResult(statistic=1668.4523293705388, pvalue=0.0)"
      ]
     },
     "execution_count": 11,
     "metadata": {},
     "output_type": "execute_result"
    }
   ],
   "source": [
    "stats.normaltest(PPcw_hr)"
   ]
  },
  {
   "cell_type": "markdown",
   "id": "4b1b3929-06b0-4448-8f63-fbd346193c06",
   "metadata": {},
   "source": [
    "Based on the p-values for each route, I can safely reject the null hypothesis that the heart rates are normally distributed. Because of this, I'll use a Mann-Whitney U test to compare the difficulty of each route.\n",
    "\n",
    "First, I want to compare the LES Loop to the PP Counter-Clockwise Loop, as those are the most common routes that I run. The null hypothesis in this test is that both routes are equally difficult, and any variation in effort between the two is due to chance. My alternative hypothesis is that the LES loop is easier."
   ]
  },
  {
   "cell_type": "code",
   "execution_count": 12,
   "id": "17750f02-a7b7-45f9-8bfd-0a3993c680e2",
   "metadata": {},
   "outputs": [
    {
     "data": {
      "text/plain": [
       "MannwhitneyuResult(statistic=9277256.0, pvalue=1.0)"
      ]
     },
     "execution_count": 12,
     "metadata": {},
     "output_type": "execute_result"
    }
   ],
   "source": [
    "stats.mannwhitneyu(LES_hr, PPccw_hr, alternative='less')"
   ]
  },
  {
   "cell_type": "markdown",
   "id": "3b5575f8-2097-4003-9e16-b0f13c89d7ae",
   "metadata": {},
   "source": [
    "Based on the p-value of 1.0, I cannot reject the null hypothesis. In other words, the heart rates observed in each route could have come from the same distribution.\n",
    "\n",
    "As a secondary test, I want to compare the two Prospect Park loops to see if there is a statistically significant difference in the effort required for each direction (counter-clockwise vs clockwise). The null hypothesis in this test is that both directions are equally difficult. My alternative hypothesis is that the loop is easier when run counter clock-wise."
   ]
  },
  {
   "cell_type": "code",
   "execution_count": 13,
   "id": "98fcabb3-fc36-47ef-939f-f8c0cc9ebbd2",
   "metadata": {},
   "outputs": [
    {
     "data": {
      "text/plain": [
       "MannwhitneyuResult(statistic=4120046.0, pvalue=3.371749048162538e-116)"
      ]
     },
     "execution_count": 13,
     "metadata": {},
     "output_type": "execute_result"
    }
   ],
   "source": [
    "stats.mannwhitneyu(PPccw_hr, PPcw_hr, alternative='less')"
   ]
  },
  {
   "cell_type": "markdown",
   "id": "4d198d6d-eb6a-47ea-9e1c-5f9015193988",
   "metadata": {},
   "source": [
    "Based on the p-values obtained from the Mann-Whitney U test, I can safely reject the null hypothesis in favor of the alternative. Running around Prospect Park in a clockwise direction is harder than running it counter-clockwise."
   ]
  },
  {
   "cell_type": "markdown",
   "id": "70301e4b-f608-48f0-991f-90fe634c849a",
   "metadata": {},
   "source": [
    "## Feature Engineering"
   ]
  },
  {
   "cell_type": "markdown",
   "id": "77963960-9b11-4b35-be59-c01a12845a36",
   "metadata": {},
   "source": [
    "I want to create a column to summarize the effort experienced at each trackpoint. First, I will calculate the mean and standard deviation of the heart rates from the LES Loop activity. I will then create a function that will categorize each trackpoint as \"easy\", \"medium\", or \"hard\" based on the heart rate measurement."
   ]
  },
  {
   "cell_type": "code",
   "execution_count": 18,
   "id": "54389917-7dc7-4330-90c3-3deba2b197cf",
   "metadata": {},
   "outputs": [],
   "source": [
    "def create_effort_zones(x):\n",
    "    # \"easy\" effort will be defined as a heart rate that is one standard deviation below the mean\n",
    "    if x < (hr_mean - hr_std):\n",
    "        return \"easy\"\n",
    "    # \"medium\" effort will be defined as a heart rate that is within one standard deviation above or below the mean\n",
    "    elif x >= (hr_mean - hr_std) and x < (hr_mean + hr_std):\n",
    "        return \"medium\"\n",
    "    # \"hard\" effort will be defined as a heart rate that is one standard deviation above the mean\n",
    "    elif x >= (hr_mean + hr_std):\n",
    "        return \"hard\""
   ]
  },
  {
   "cell_type": "code",
   "execution_count": 19,
   "id": "6491db5f-486f-4443-a951-905e95947a81",
   "metadata": {},
   "outputs": [],
   "source": [
    "hr_mean = LES_hr.mean()"
   ]
  },
  {
   "cell_type": "code",
   "execution_count": 20,
   "id": "831dd2de-1f61-4a74-86c9-8dfb863e4f00",
   "metadata": {},
   "outputs": [],
   "source": [
    "hr_std = LES_hr.std()"
   ]
  },
  {
   "cell_type": "code",
   "execution_count": 21,
   "id": "128520b2-3126-4f75-b02f-d805ebd849d4",
   "metadata": {},
   "outputs": [
    {
     "data": {
      "text/html": [
       "<div>\n",
       "<style scoped>\n",
       "    .dataframe tbody tr th:only-of-type {\n",
       "        vertical-align: middle;\n",
       "    }\n",
       "\n",
       "    .dataframe tbody tr th {\n",
       "        vertical-align: top;\n",
       "    }\n",
       "\n",
       "    .dataframe thead th {\n",
       "        text-align: right;\n",
       "    }\n",
       "</style>\n",
       "<table border=\"1\" class=\"dataframe\">\n",
       "  <thead>\n",
       "    <tr style=\"text-align: right;\">\n",
       "      <th></th>\n",
       "      <th>Unnamed: 0</th>\n",
       "      <th>latitude</th>\n",
       "      <th>longitude</th>\n",
       "      <th>elevation</th>\n",
       "      <th>time</th>\n",
       "      <th>heart_rate</th>\n",
       "      <th>cadence</th>\n",
       "      <th>geometry</th>\n",
       "    </tr>\n",
       "  </thead>\n",
       "  <tbody>\n",
       "    <tr>\n",
       "      <th>0</th>\n",
       "      <td>0</td>\n",
       "      <td>40.688497</td>\n",
       "      <td>-73.970898</td>\n",
       "      <td>25.5</td>\n",
       "      <td>2022-03-03 11:58:46+00:00</td>\n",
       "      <td>103</td>\n",
       "      <td>83</td>\n",
       "      <td>POINT (-73.970898 40.688497)</td>\n",
       "    </tr>\n",
       "    <tr>\n",
       "      <th>1</th>\n",
       "      <td>1</td>\n",
       "      <td>40.688514</td>\n",
       "      <td>-73.970898</td>\n",
       "      <td>25.4</td>\n",
       "      <td>2022-03-03 11:58:51+00:00</td>\n",
       "      <td>99</td>\n",
       "      <td>0</td>\n",
       "      <td>POINT (-73.970898 40.688514)</td>\n",
       "    </tr>\n",
       "    <tr>\n",
       "      <th>2</th>\n",
       "      <td>2</td>\n",
       "      <td>40.688518</td>\n",
       "      <td>-73.970909</td>\n",
       "      <td>25.4</td>\n",
       "      <td>2022-03-03 11:58:52+00:00</td>\n",
       "      <td>99</td>\n",
       "      <td>0</td>\n",
       "      <td>POINT (-73.970909 40.688518)</td>\n",
       "    </tr>\n",
       "    <tr>\n",
       "      <th>3</th>\n",
       "      <td>3</td>\n",
       "      <td>40.688531</td>\n",
       "      <td>-73.970922</td>\n",
       "      <td>25.4</td>\n",
       "      <td>2022-03-03 11:58:53+00:00</td>\n",
       "      <td>100</td>\n",
       "      <td>0</td>\n",
       "      <td>POINT (-73.970922 40.688531)</td>\n",
       "    </tr>\n",
       "    <tr>\n",
       "      <th>4</th>\n",
       "      <td>4</td>\n",
       "      <td>40.688545</td>\n",
       "      <td>-73.970934</td>\n",
       "      <td>25.4</td>\n",
       "      <td>2022-03-03 11:58:54+00:00</td>\n",
       "      <td>101</td>\n",
       "      <td>0</td>\n",
       "      <td>POINT (-73.970934 40.688545)</td>\n",
       "    </tr>\n",
       "  </tbody>\n",
       "</table>\n",
       "</div>"
      ],
      "text/plain": [
       "   Unnamed: 0   latitude  longitude  elevation                       time  \\\n",
       "0           0  40.688497 -73.970898       25.5  2022-03-03 11:58:46+00:00   \n",
       "1           1  40.688514 -73.970898       25.4  2022-03-03 11:58:51+00:00   \n",
       "2           2  40.688518 -73.970909       25.4  2022-03-03 11:58:52+00:00   \n",
       "3           3  40.688531 -73.970922       25.4  2022-03-03 11:58:53+00:00   \n",
       "4           4  40.688545 -73.970934       25.4  2022-03-03 11:58:54+00:00   \n",
       "\n",
       "   heart_rate  cadence                      geometry  \n",
       "0         103       83  POINT (-73.970898 40.688497)  \n",
       "1          99        0  POINT (-73.970898 40.688514)  \n",
       "2          99        0  POINT (-73.970909 40.688518)  \n",
       "3         100        0  POINT (-73.970922 40.688531)  \n",
       "4         101        0  POINT (-73.970934 40.688545)  "
      ]
     },
     "execution_count": 21,
     "metadata": {},
     "output_type": "execute_result"
    }
   ],
   "source": [
    "LESloop_df.head()"
   ]
  },
  {
   "cell_type": "code",
   "execution_count": 22,
   "id": "8dbbc62a-9046-4b73-b91b-c2a31428ae4d",
   "metadata": {},
   "outputs": [],
   "source": [
    "LESloop_df['effort_zone'] = LESloop_df['heart_rate'].apply(lambda x: create_effort_zones(x))"
   ]
  },
  {
   "cell_type": "code",
   "execution_count": 23,
   "id": "a2579f97-d685-434b-a6fb-ee02fd411e53",
   "metadata": {},
   "outputs": [
    {
     "data": {
      "text/html": [
       "<div>\n",
       "<style scoped>\n",
       "    .dataframe tbody tr th:only-of-type {\n",
       "        vertical-align: middle;\n",
       "    }\n",
       "\n",
       "    .dataframe tbody tr th {\n",
       "        vertical-align: top;\n",
       "    }\n",
       "\n",
       "    .dataframe thead th {\n",
       "        text-align: right;\n",
       "    }\n",
       "</style>\n",
       "<table border=\"1\" class=\"dataframe\">\n",
       "  <thead>\n",
       "    <tr style=\"text-align: right;\">\n",
       "      <th></th>\n",
       "      <th>Unnamed: 0</th>\n",
       "      <th>latitude</th>\n",
       "      <th>longitude</th>\n",
       "      <th>elevation</th>\n",
       "      <th>time</th>\n",
       "      <th>heart_rate</th>\n",
       "      <th>cadence</th>\n",
       "      <th>geometry</th>\n",
       "      <th>effort_zone</th>\n",
       "    </tr>\n",
       "  </thead>\n",
       "  <tbody>\n",
       "    <tr>\n",
       "      <th>0</th>\n",
       "      <td>0</td>\n",
       "      <td>40.688497</td>\n",
       "      <td>-73.970898</td>\n",
       "      <td>25.5</td>\n",
       "      <td>2022-03-03 11:58:46+00:00</td>\n",
       "      <td>103</td>\n",
       "      <td>83</td>\n",
       "      <td>POINT (-73.970898 40.688497)</td>\n",
       "      <td>easy</td>\n",
       "    </tr>\n",
       "    <tr>\n",
       "      <th>1</th>\n",
       "      <td>1</td>\n",
       "      <td>40.688514</td>\n",
       "      <td>-73.970898</td>\n",
       "      <td>25.4</td>\n",
       "      <td>2022-03-03 11:58:51+00:00</td>\n",
       "      <td>99</td>\n",
       "      <td>0</td>\n",
       "      <td>POINT (-73.970898 40.688514)</td>\n",
       "      <td>easy</td>\n",
       "    </tr>\n",
       "    <tr>\n",
       "      <th>2</th>\n",
       "      <td>2</td>\n",
       "      <td>40.688518</td>\n",
       "      <td>-73.970909</td>\n",
       "      <td>25.4</td>\n",
       "      <td>2022-03-03 11:58:52+00:00</td>\n",
       "      <td>99</td>\n",
       "      <td>0</td>\n",
       "      <td>POINT (-73.970909 40.688518)</td>\n",
       "      <td>easy</td>\n",
       "    </tr>\n",
       "    <tr>\n",
       "      <th>3</th>\n",
       "      <td>3</td>\n",
       "      <td>40.688531</td>\n",
       "      <td>-73.970922</td>\n",
       "      <td>25.4</td>\n",
       "      <td>2022-03-03 11:58:53+00:00</td>\n",
       "      <td>100</td>\n",
       "      <td>0</td>\n",
       "      <td>POINT (-73.970922 40.688531)</td>\n",
       "      <td>easy</td>\n",
       "    </tr>\n",
       "    <tr>\n",
       "      <th>4</th>\n",
       "      <td>4</td>\n",
       "      <td>40.688545</td>\n",
       "      <td>-73.970934</td>\n",
       "      <td>25.4</td>\n",
       "      <td>2022-03-03 11:58:54+00:00</td>\n",
       "      <td>101</td>\n",
       "      <td>0</td>\n",
       "      <td>POINT (-73.970934 40.688545)</td>\n",
       "      <td>easy</td>\n",
       "    </tr>\n",
       "    <tr>\n",
       "      <th>...</th>\n",
       "      <td>...</td>\n",
       "      <td>...</td>\n",
       "      <td>...</td>\n",
       "      <td>...</td>\n",
       "      <td>...</td>\n",
       "      <td>...</td>\n",
       "      <td>...</td>\n",
       "      <td>...</td>\n",
       "      <td>...</td>\n",
       "    </tr>\n",
       "    <tr>\n",
       "      <th>3605</th>\n",
       "      <td>3605</td>\n",
       "      <td>40.688159</td>\n",
       "      <td>-73.970896</td>\n",
       "      <td>26.2</td>\n",
       "      <td>2022-03-03 12:59:14+00:00</td>\n",
       "      <td>168</td>\n",
       "      <td>86</td>\n",
       "      <td>POINT (-73.970896 40.688159)</td>\n",
       "      <td>hard</td>\n",
       "    </tr>\n",
       "    <tr>\n",
       "      <th>3606</th>\n",
       "      <td>3606</td>\n",
       "      <td>40.688134</td>\n",
       "      <td>-73.970880</td>\n",
       "      <td>26.3</td>\n",
       "      <td>2022-03-03 12:59:15+00:00</td>\n",
       "      <td>168</td>\n",
       "      <td>86</td>\n",
       "      <td>POINT (-73.97088 40.688134)</td>\n",
       "      <td>hard</td>\n",
       "    </tr>\n",
       "    <tr>\n",
       "      <th>3607</th>\n",
       "      <td>3607</td>\n",
       "      <td>40.688112</td>\n",
       "      <td>-73.970860</td>\n",
       "      <td>26.3</td>\n",
       "      <td>2022-03-03 12:59:16+00:00</td>\n",
       "      <td>167</td>\n",
       "      <td>85</td>\n",
       "      <td>POINT (-73.97086 40.688112)</td>\n",
       "      <td>hard</td>\n",
       "    </tr>\n",
       "    <tr>\n",
       "      <th>3608</th>\n",
       "      <td>3608</td>\n",
       "      <td>40.688089</td>\n",
       "      <td>-73.970846</td>\n",
       "      <td>26.4</td>\n",
       "      <td>2022-03-03 12:59:17+00:00</td>\n",
       "      <td>167</td>\n",
       "      <td>85</td>\n",
       "      <td>POINT (-73.970846 40.688089)</td>\n",
       "      <td>hard</td>\n",
       "    </tr>\n",
       "    <tr>\n",
       "      <th>3609</th>\n",
       "      <td>3609</td>\n",
       "      <td>40.688073</td>\n",
       "      <td>-73.970829</td>\n",
       "      <td>26.4</td>\n",
       "      <td>2022-03-03 12:59:18+00:00</td>\n",
       "      <td>167</td>\n",
       "      <td>86</td>\n",
       "      <td>POINT (-73.970829 40.688073)</td>\n",
       "      <td>hard</td>\n",
       "    </tr>\n",
       "  </tbody>\n",
       "</table>\n",
       "<p>3610 rows × 9 columns</p>\n",
       "</div>"
      ],
      "text/plain": [
       "      Unnamed: 0   latitude  longitude  elevation                       time  \\\n",
       "0              0  40.688497 -73.970898       25.5  2022-03-03 11:58:46+00:00   \n",
       "1              1  40.688514 -73.970898       25.4  2022-03-03 11:58:51+00:00   \n",
       "2              2  40.688518 -73.970909       25.4  2022-03-03 11:58:52+00:00   \n",
       "3              3  40.688531 -73.970922       25.4  2022-03-03 11:58:53+00:00   \n",
       "4              4  40.688545 -73.970934       25.4  2022-03-03 11:58:54+00:00   \n",
       "...          ...        ...        ...        ...                        ...   \n",
       "3605        3605  40.688159 -73.970896       26.2  2022-03-03 12:59:14+00:00   \n",
       "3606        3606  40.688134 -73.970880       26.3  2022-03-03 12:59:15+00:00   \n",
       "3607        3607  40.688112 -73.970860       26.3  2022-03-03 12:59:16+00:00   \n",
       "3608        3608  40.688089 -73.970846       26.4  2022-03-03 12:59:17+00:00   \n",
       "3609        3609  40.688073 -73.970829       26.4  2022-03-03 12:59:18+00:00   \n",
       "\n",
       "      heart_rate  cadence                      geometry effort_zone  \n",
       "0            103       83  POINT (-73.970898 40.688497)        easy  \n",
       "1             99        0  POINT (-73.970898 40.688514)        easy  \n",
       "2             99        0  POINT (-73.970909 40.688518)        easy  \n",
       "3            100        0  POINT (-73.970922 40.688531)        easy  \n",
       "4            101        0  POINT (-73.970934 40.688545)        easy  \n",
       "...          ...      ...                           ...         ...  \n",
       "3605         168       86  POINT (-73.970896 40.688159)        hard  \n",
       "3606         168       86   POINT (-73.97088 40.688134)        hard  \n",
       "3607         167       85   POINT (-73.97086 40.688112)        hard  \n",
       "3608         167       85  POINT (-73.970846 40.688089)        hard  \n",
       "3609         167       86  POINT (-73.970829 40.688073)        hard  \n",
       "\n",
       "[3610 rows x 9 columns]"
      ]
     },
     "execution_count": 23,
     "metadata": {},
     "output_type": "execute_result"
    }
   ],
   "source": [
    "LESloop_df"
   ]
  },
  {
   "cell_type": "code",
   "execution_count": 24,
   "id": "a967da03-4eb6-467f-89e2-bfb72c270dbc",
   "metadata": {},
   "outputs": [],
   "source": [
    "LESloop_df.to_csv('../data/LESloop_effort_gdf.csv')"
   ]
  },
  {
   "cell_type": "code",
   "execution_count": 26,
   "id": "5ac925ab-dd18-46e6-ac61-3cb2eda0d1a9",
   "metadata": {},
   "outputs": [],
   "source": [
    "def create_effort_zones_int(x):\n",
    "    # \"easy\" effort will be defined as a heart rate that is one standard deviation below the mean\n",
    "    if x < (hr_mean - hr_std):\n",
    "        return \"1\"\n",
    "    # \"medium\" effort will be defined as a heart rate that is within one standard deviation above or below the mean\n",
    "    elif x >= (hr_mean - hr_std) and x < (hr_mean + hr_std):\n",
    "        return \"2\"\n",
    "    # \"hard\" effort will be defined as a heart rate that is one standard deviation above the mean\n",
    "    elif x >= (hr_mean + hr_std):\n",
    "        return \"3\""
   ]
  },
  {
   "cell_type": "code",
   "execution_count": 27,
   "id": "59e27593-929c-411d-9812-f1fad3d062c1",
   "metadata": {},
   "outputs": [],
   "source": [
    "LESloop_df['effort_zone_int'] = LESloop_df['heart_rate'].apply(lambda x: create_effort_zones_int(x))"
   ]
  },
  {
   "cell_type": "code",
   "execution_count": 30,
   "id": "383df34a-471c-4297-a176-984266f19b9e",
   "metadata": {},
   "outputs": [
    {
     "data": {
      "text/html": [
       "<div>\n",
       "<style scoped>\n",
       "    .dataframe tbody tr th:only-of-type {\n",
       "        vertical-align: middle;\n",
       "    }\n",
       "\n",
       "    .dataframe tbody tr th {\n",
       "        vertical-align: top;\n",
       "    }\n",
       "\n",
       "    .dataframe thead th {\n",
       "        text-align: right;\n",
       "    }\n",
       "</style>\n",
       "<table border=\"1\" class=\"dataframe\">\n",
       "  <thead>\n",
       "    <tr style=\"text-align: right;\">\n",
       "      <th></th>\n",
       "      <th>Unnamed: 0</th>\n",
       "      <th>latitude</th>\n",
       "      <th>longitude</th>\n",
       "      <th>elevation</th>\n",
       "      <th>time</th>\n",
       "      <th>heart_rate</th>\n",
       "      <th>cadence</th>\n",
       "      <th>geometry</th>\n",
       "      <th>effort_zone</th>\n",
       "      <th>effort_zone_int</th>\n",
       "    </tr>\n",
       "  </thead>\n",
       "  <tbody>\n",
       "    <tr>\n",
       "      <th>0</th>\n",
       "      <td>0</td>\n",
       "      <td>40.688497</td>\n",
       "      <td>-73.970898</td>\n",
       "      <td>25.5</td>\n",
       "      <td>2022-03-03 11:58:46+00:00</td>\n",
       "      <td>103</td>\n",
       "      <td>83</td>\n",
       "      <td>POINT (-73.970898 40.688497)</td>\n",
       "      <td>easy</td>\n",
       "      <td>1</td>\n",
       "    </tr>\n",
       "    <tr>\n",
       "      <th>1</th>\n",
       "      <td>1</td>\n",
       "      <td>40.688514</td>\n",
       "      <td>-73.970898</td>\n",
       "      <td>25.4</td>\n",
       "      <td>2022-03-03 11:58:51+00:00</td>\n",
       "      <td>99</td>\n",
       "      <td>0</td>\n",
       "      <td>POINT (-73.970898 40.688514)</td>\n",
       "      <td>easy</td>\n",
       "      <td>1</td>\n",
       "    </tr>\n",
       "    <tr>\n",
       "      <th>2</th>\n",
       "      <td>2</td>\n",
       "      <td>40.688518</td>\n",
       "      <td>-73.970909</td>\n",
       "      <td>25.4</td>\n",
       "      <td>2022-03-03 11:58:52+00:00</td>\n",
       "      <td>99</td>\n",
       "      <td>0</td>\n",
       "      <td>POINT (-73.970909 40.688518)</td>\n",
       "      <td>easy</td>\n",
       "      <td>1</td>\n",
       "    </tr>\n",
       "    <tr>\n",
       "      <th>3</th>\n",
       "      <td>3</td>\n",
       "      <td>40.688531</td>\n",
       "      <td>-73.970922</td>\n",
       "      <td>25.4</td>\n",
       "      <td>2022-03-03 11:58:53+00:00</td>\n",
       "      <td>100</td>\n",
       "      <td>0</td>\n",
       "      <td>POINT (-73.970922 40.688531)</td>\n",
       "      <td>easy</td>\n",
       "      <td>1</td>\n",
       "    </tr>\n",
       "    <tr>\n",
       "      <th>4</th>\n",
       "      <td>4</td>\n",
       "      <td>40.688545</td>\n",
       "      <td>-73.970934</td>\n",
       "      <td>25.4</td>\n",
       "      <td>2022-03-03 11:58:54+00:00</td>\n",
       "      <td>101</td>\n",
       "      <td>0</td>\n",
       "      <td>POINT (-73.970934 40.688545)</td>\n",
       "      <td>easy</td>\n",
       "      <td>1</td>\n",
       "    </tr>\n",
       "  </tbody>\n",
       "</table>\n",
       "</div>"
      ],
      "text/plain": [
       "   Unnamed: 0   latitude  longitude  elevation                       time  \\\n",
       "0           0  40.688497 -73.970898       25.5  2022-03-03 11:58:46+00:00   \n",
       "1           1  40.688514 -73.970898       25.4  2022-03-03 11:58:51+00:00   \n",
       "2           2  40.688518 -73.970909       25.4  2022-03-03 11:58:52+00:00   \n",
       "3           3  40.688531 -73.970922       25.4  2022-03-03 11:58:53+00:00   \n",
       "4           4  40.688545 -73.970934       25.4  2022-03-03 11:58:54+00:00   \n",
       "\n",
       "   heart_rate  cadence                      geometry effort_zone  \\\n",
       "0         103       83  POINT (-73.970898 40.688497)        easy   \n",
       "1          99        0  POINT (-73.970898 40.688514)        easy   \n",
       "2          99        0  POINT (-73.970909 40.688518)        easy   \n",
       "3         100        0  POINT (-73.970922 40.688531)        easy   \n",
       "4         101        0  POINT (-73.970934 40.688545)        easy   \n",
       "\n",
       "  effort_zone_int  \n",
       "0               1  \n",
       "1               1  \n",
       "2               1  \n",
       "3               1  \n",
       "4               1  "
      ]
     },
     "execution_count": 30,
     "metadata": {},
     "output_type": "execute_result"
    }
   ],
   "source": [
    "LESloop_df.head()"
   ]
  },
  {
   "cell_type": "code",
   "execution_count": 31,
   "id": "16838caf-331b-4bbf-addb-3be63c23d696",
   "metadata": {},
   "outputs": [],
   "source": [
    "LESloop_df.to_csv('../data/LESloop_effort_int_gdf.csv')"
   ]
  },
  {
   "cell_type": "code",
   "execution_count": null,
   "id": "ffc4074b-2c0e-452e-98d6-5d79b6175e0b",
   "metadata": {},
   "outputs": [],
   "source": []
  }
 ],
 "metadata": {
  "kernelspec": {
   "display_name": "info615",
   "language": "python",
   "name": "info615"
  },
  "language_info": {
   "codemirror_mode": {
    "name": "ipython",
    "version": 3
   },
   "file_extension": ".py",
   "mimetype": "text/x-python",
   "name": "python",
   "nbconvert_exporter": "python",
   "pygments_lexer": "ipython3",
   "version": "3.9.9"
  }
 },
 "nbformat": 4,
 "nbformat_minor": 5
}
